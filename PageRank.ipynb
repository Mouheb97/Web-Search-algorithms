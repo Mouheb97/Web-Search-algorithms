{
 "cells": [
  {
   "cell_type": "markdown",
   "metadata": {},
   "source": [
    "<h2>PAGERANK ALGORITHM<h2/> "
   ]
  },
  {
   "cell_type": "code",
   "execution_count": 28,
   "metadata": {},
   "outputs": [],
   "source": [
    "import matplotlib.pyplot as plt\n",
    "import networkx as nx\n",
    "import numpy as np"
   ]
  },
  {
   "cell_type": "code",
   "execution_count": 29,
   "metadata": {},
   "outputs": [],
   "source": [
    "N= 5     #Number of Nodes or web pages\n",
    "q= 0.85     # Damping factor (coefficient de calibrage) "
   ]
  },
  {
   "cell_type": "code",
   "execution_count": 30,
   "metadata": {},
   "outputs": [],
   "source": [
    "G= nx.gnp_random_graph(N,0.6,seed=None, directed=True) # generate random directed graph"
   ]
  },
  {
   "cell_type": "code",
   "execution_count": 31,
   "metadata": {},
   "outputs": [
    {
     "data": {
      "image/png": "[encoded data removed]",
      "text/plain": [
       "<Figure size 432x288 with 1 Axes>"
      ]
     },
     "metadata": {},
     "output_type": "display_data"
    }
   ],
   "source": [
    "# visualize graph\n",
    "pos = nx.spring_layout(G)\n",
    "nx.draw_networkx_nodes(G,pos,node_size=500)\n",
    "nx.draw_networkx_edges(G, pos, edgelist=G.edges(),edge_color='black')\n",
    "nx.draw_networkx_labels(G, pos)\n",
    "plt.show()"
   ]
  },
  {
   "cell_type": "code",
   "execution_count": 32,
   "metadata": {},
   "outputs": [
    {
     "name": "stdout",
     "output_type": "stream",
     "text": [
      "[[0. 0. 1. 1. 0.]\n",
      " [0. 0. 0. 1. 1.]\n",
      " [1. 1. 0. 1. 1.]\n",
      " [1. 1. 1. 0. 1.]\n",
      " [1. 1. 0. 1. 0.]]\n"
     ]
    }
   ],
   "source": [
    "A = nx.to_numpy_matrix(G) #Convert Graph to Adjacency matrix\n",
    "print(A)\n",
    "#Lines contains where the node is pointing\n",
    "#Row contains the nodes that are pointing the the n node"
   ]
  },
  {
   "cell_type": "code",
   "execution_count": 33,
   "metadata": {},
   "outputs": [],
   "source": [
    "#Simplified transition matrix Function\n",
    "def STMF(x):\n",
    "    return x/x.sum(axis=1)"
   ]
  },
  {
   "cell_type": "code",
   "execution_count": 34,
   "metadata": {},
   "outputs": [
    {
     "name": "stdout",
     "output_type": "stream",
     "text": [
      "[[0.         0.         0.5        0.5        0.        ]\n",
      " [0.         0.         0.         0.5        0.5       ]\n",
      " [0.25       0.25       0.         0.25       0.25      ]\n",
      " [0.25       0.25       0.25       0.         0.25      ]\n",
      " [0.33333333 0.33333333 0.         0.33333333 0.        ]]\n"
     ]
    }
   ],
   "source": [
    "STM = STMF(A)\n",
    "print(STM)"
   ]
  },
  {
   "cell_type": "code",
   "execution_count": 35,
   "metadata": {},
   "outputs": [],
   "source": [
    "#Non-Simplified transition matrix Function\n",
    "def NSTMF(x):\n",
    "    A = STMF(x)\n",
    "    AT = A*q+((1-q)/N)\n",
    "    return AT"
   ]
  },
  {
   "cell_type": "code",
   "execution_count": 36,
   "metadata": {},
   "outputs": [
    {
     "name": "stdout",
     "output_type": "stream",
     "text": [
      "[[0.03       0.03       0.455      0.455      0.03      ]\n",
      " [0.03       0.03       0.03       0.455      0.455     ]\n",
      " [0.2425     0.2425     0.03       0.2425     0.2425    ]\n",
      " [0.2425     0.2425     0.2425     0.03       0.2425    ]\n",
      " [0.31333333 0.31333333 0.03       0.31333333 0.03      ]]\n"
     ]
    }
   ],
   "source": [
    "NSTM = NSTMF(A)\n",
    "print(NSTM)"
   ]
  },
  {
   "cell_type": "code",
   "execution_count": 41,
   "metadata": {},
   "outputs": [
    {
     "name": "stdout",
     "output_type": "stream",
     "text": [
      "[[0.83333333 0.83333333 0.75       1.58333333 1.        ]]\n"
     ]
    }
   ],
   "source": [
    "#Simplified PageRank Vector\n",
    "PRSTM =np.sum(STM,axis=0)  \n",
    "print(PRSTM)"
   ]
  },
  {
   "cell_type": "code",
   "execution_count": 42,
   "metadata": {},
   "outputs": [
    {
     "name": "stdout",
     "output_type": "stream",
     "text": [
      "[[0.85833333 0.85833333 0.7875     1.49583333 1.        ]]\n"
     ]
    }
   ],
   "source": [
    "#Non-Simplified PageRank Vector\n",
    "PRNSTM =np.sum(NSTM,axis=0)  \n",
    "print(PRNSTM)"
   ]
  },
  {
   "cell_type": "code",
   "execution_count": null,
   "metadata": {},
   "outputs": [],
   "source": []
  }
 ],
 "metadata": {
  "kernelspec": {
   "display_name": "Python 3",
   "language": "python",
   "name": "python3"
  },
  "language_info": {
   "codemirror_mode": {
    "name": "ipython",
    "version": 3
   },
   "file_extension": ".py",
   "mimetype": "text/x-python",
   "name": "python",
   "nbconvert_exporter": "python",
   "pygments_lexer": "ipython3",
   "version": "3.7.7"
  }
 },
 "nbformat": 4,
 "nbformat_minor": 4
}
