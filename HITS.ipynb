{
 "cells": [
  {
   "cell_type": "markdown",
   "metadata": {},
   "source": [
    "<h2> HITS ALGORITHM </h2>"
   ]
  },
  {
   "cell_type": "code",
   "execution_count": 183,
   "metadata": {},
   "outputs": [],
   "source": [
    "import matplotlib.pyplot as plt\n",
    "import networkx as nx\n",
    "import numpy as np"
   ]
  },
  {
   "cell_type": "code",
   "execution_count": 234,
   "metadata": {},
   "outputs": [],
   "source": [
    "N= 5     #Number of Nodes or web pages\n",
    "Node = 2 #the selected node\n",
    "K = 10 "
   ]
  },
  {
   "cell_type": "code",
   "execution_count": 185,
   "metadata": {},
   "outputs": [],
   "source": [
    "G= nx.gnp_random_graph(N,0.6,seed=None, directed=True) # generate random directed graph"
   ]
  },
  {
   "cell_type": "code",
   "execution_count": 186,
   "metadata": {},
   "outputs": [
    {
     "data": {
      "image/png": "[encoded data removed]",
      "text/plain": [
       "<Figure size 432x288 with 1 Axes>"
      ]
     },
     "metadata": {},
     "output_type": "display_data"
    }
   ],
   "source": [
    "# visualize graph\n",
    "pos = nx.spring_layout(G)\n",
    "nx.draw_networkx_nodes(G,pos,node_size=500)\n",
    "nx.draw_networkx_edges(G, pos, edgelist=G.edges(),edge_color='black')\n",
    "nx.draw_networkx_labels(G, pos)\n",
    "plt.show()"
   ]
  },
  {
   "cell_type": "code",
   "execution_count": 187,
   "metadata": {},
   "outputs": [
    {
     "name": "stdout",
     "output_type": "stream",
     "text": [
      "[(2, 0), (2, 1), (2, 4)]\n",
      "[]\n"
     ]
    }
   ],
   "source": [
    "#Choosing the node or the webpage\n",
    "out_e=G.out_edges(nbunch=Node)\n",
    "in_e= G.in_edges(nbunch=Node)\n",
    "print(out_e)\n",
    "print(in_e)"
   ]
  },
  {
   "cell_type": "code",
   "execution_count": 188,
   "metadata": {},
   "outputs": [],
   "source": [
    "outlist=list(out_e)\n",
    "inlist=list(in_e)\n"
   ]
  },
  {
   "cell_type": "code",
   "execution_count": 189,
   "metadata": {},
   "outputs": [],
   "source": [
    "D= nx.DiGraph()\n",
    "D.add_edges_from(outlist)\n",
    "D.add_edges_from(inlist)"
   ]
  },
  {
   "cell_type": "code",
   "execution_count": 190,
   "metadata": {},
   "outputs": [
    {
     "data": {
      "image/png": "[encoded data removed]",
      "text/plain": [
       "<Figure size 432x288 with 1 Axes>"
      ]
     },
     "metadata": {},
     "output_type": "display_data"
    }
   ],
   "source": [
    "# visualize graph\n",
    "pos = nx.spring_layout(D)\n",
    "nx.draw_networkx_nodes(D,pos,node_size=500)\n",
    "nx.draw_networkx_edges(D, pos, edgelist=D.edges(),edge_color='black')\n",
    "nx.draw_networkx_labels(D, pos)\n",
    "plt.show()"
   ]
  },
  {
   "cell_type": "code",
   "execution_count": 191,
   "metadata": {},
   "outputs": [
    {
     "name": "stdout",
     "output_type": "stream",
     "text": [
      "[[0. 1. 1. 1.]\n",
      " [0. 0. 0. 0.]\n",
      " [0. 0. 0. 0.]\n",
      " [0. 0. 0. 0.]]\n"
     ]
    }
   ],
   "source": [
    "A = nx.to_numpy_matrix(D) #Convert Graph to Adjacency matrix\n",
    "print(A)"
   ]
  },
  {
   "cell_type": "code",
   "execution_count": 220,
   "metadata": {},
   "outputs": [
    {
     "name": "stdout",
     "output_type": "stream",
     "text": [
      "[1. 1. 1. 1.]\n"
     ]
    }
   ],
   "source": [
    "#initializing hubs and authorities\n",
    "hubs =np.ones(len(A))\n",
    "authorities = np.ones(len(A))"
   ]
  },
  {
   "cell_type": "code",
   "execution_count": 204,
   "metadata": {},
   "outputs": [
    {
     "name": "stdout",
     "output_type": "stream",
     "text": [
      "[[0. 1. 1. 1.]]\n"
     ]
    }
   ],
   "source": [
    "#start algorithm \n",
    "authorities = np.dot(A,hubs.reshape(-1,1))\n",
    "#print(C_authorities)"
   ]
  },
  {
   "cell_type": "code",
   "execution_count": 205,
   "metadata": {},
   "outputs": [
    {
     "name": "stdout",
     "output_type": "stream",
     "text": [
      "[[3. 0. 0. 0.]]\n"
     ]
    }
   ],
   "source": [
    "AT = A.T  #transpose \n",
    "hubs = np.dot(AT, authorities) "
   ]
  },
  {
   "cell_type": "code",
   "execution_count": 207,
   "metadata": {},
   "outputs": [],
   "source": [
    "# Normalization\n",
    "def Normalization(x):\n",
    "    out = x/np.linalg.norm(x)\n",
    "    return out"
   ]
  },
  {
   "cell_type": "code",
   "execution_count": 208,
   "metadata": {},
   "outputs": [],
   "source": [
    "#interations \n",
    "for i in range(0,k-1):\n",
    "        C_hubs = Normalization(C_hubs)\n",
    "        C_authorities = np.dot(AC,C_hubs)\n",
    "        C_hubs = np.dot(ACT,C_authorities)\n",
    "#visulizing Hub Scores Authority Scores at K interation\n",
    "print(\"Hub Scores: \", C_hubs) \n",
    "print(\"Authority Scores: \", C_authorities)"
   ]
  },
  {
   "cell_type": "markdown",
   "metadata": {},
   "source": [
    "<h3>Exexution on course example </h3>"
   ]
  },
  {
   "cell_type": "code",
   "execution_count": 424,
   "metadata": {},
   "outputs": [
    {
     "name": "stdout",
     "output_type": "stream",
     "text": [
      "[[0 1 1]\n",
      " [1 0 0]\n",
      " [0 1 0]]\n"
     ]
    }
   ],
   "source": [
    "AC = np.matrix('0 1 1 ; 1 0 0 ;0 1 0')\n",
    "print(AC)"
   ]
  },
  {
   "cell_type": "code",
   "execution_count": 425,
   "metadata": {},
   "outputs": [
    {
     "name": "stdout",
     "output_type": "stream",
     "text": [
      "[1. 1. 1.]\n"
     ]
    }
   ],
   "source": [
    "C_hubs =np.ones(len(AC))\n",
    "C_authorities = np.ones(len(AC))\n",
    "print(C_hubs)"
   ]
  },
  {
   "cell_type": "code",
   "execution_count": 430,
   "metadata": {},
   "outputs": [
    {
     "name": "stdout",
     "output_type": "stream",
     "text": [
      "[[9.43386202e+00]\n",
      " [4.80295188e-05]\n",
      " [5.83044737e+00]]\n",
      "[[4.80295188e-05]\n",
      " [1.52643094e+01]\n",
      " [9.43386202e+00]]\n",
      "[[0 1 1]\n",
      " [1 0 0]\n",
      " [0 1 0]]\n",
      "[[0 1 0]\n",
      " [1 0 1]\n",
      " [1 0 0]]\n"
     ]
    }
   ],
   "source": [
    "C_authorities = np.dot(AC,C_hubs.reshape(-1,1))\n",
    "#print(C_authorities)\n",
    "ACT = AC.T\n",
    "C_hubs = np.dot(ACT, C_authorities)\n",
    "#print(C_hubs)\n",
    "#print(AC)\n",
    "#print(ACT)"
   ]
  },
  {
   "cell_type": "code",
   "execution_count": 423,
   "metadata": {},
   "outputs": [
    {
     "name": "stdout",
     "output_type": "stream",
     "text": [
      "Hub Scores:  [[4.80295188e-05]\n",
      " [2.22703273e+00]\n",
      " [1.37638192e+00]]\n",
      "Authority Scores:  [[1.37638192e+00]\n",
      " [4.80295188e-05]\n",
      " [8.50650807e-01]]\n"
     ]
    }
   ],
   "source": [
    "for i in range(0,k-1):\n",
    "        C_hubs = Normalization(C_hubs)\n",
    "        C_authorities = np.dot(AC,C_hubs)\n",
    "        C_hubs = np.dot(ACT,C_authorities)\n",
    "print(\"Hub Scores: \", C_hubs) \n",
    "print(\"Authority Scores: \", C_authorities)"
   ]
  },
  {
   "cell_type": "code",
   "execution_count": null,
   "metadata": {},
   "outputs": [],
   "source": []
  }
 ],
 "metadata": {
  "kernelspec": {
   "display_name": "Python 3",
   "language": "python",
   "name": "python3"
  },
  "language_info": {
   "codemirror_mode": {
    "name": "ipython",
    "version": 3
   },
   "file_extension": ".py",
   "mimetype": "text/x-python",
   "name": "python",
   "nbconvert_exporter": "python",
   "pygments_lexer": "ipython3",
   "version": "3.7.7"
  }
 },
 "nbformat": 4,
 "nbformat_minor": 4
}
